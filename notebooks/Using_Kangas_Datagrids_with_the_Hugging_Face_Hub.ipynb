{
  "nbformat": 4,
  "nbformat_minor": 0,
  "metadata": {
    "colab": {
      "provenance": []
    },
    "kernelspec": {
      "name": "python3",
      "display_name": "Python 3"
    },
    "language_info": {
      "name": "python"
    }
  },
  "cells": [
    {
      "cell_type": "markdown",
      "source": [
        "In this guide we will demonstrate how to download Kangas DataGrids directly from a Hugging Face Hub dataset repository. \n"
      ],
      "metadata": {
        "id": "HnTxrwK9x_HT"
      }
    },
    {
      "cell_type": "markdown",
      "source": [
        "# Install Dependencies"
      ],
      "metadata": {
        "id": "zUEAwMYFRTxt"
      }
    },
    {
      "cell_type": "code",
      "execution_count": null,
      "metadata": {
        "id": "KaHN1umeQlRS"
      },
      "outputs": [],
      "source": [
        "!pip install huggingface_hub kangas --quiet"
      ]
    },
    {
      "cell_type": "markdown",
      "source": [
        "# Login to the Hugging Face Hub"
      ],
      "metadata": {
        "id": "vudG7iCnRWaP"
      }
    },
    {
      "cell_type": "code",
      "source": [
        "from huggingface_hub import login\n",
        "login()"
      ],
      "metadata": {
        "id": "WMb6nVe_QoNt"
      },
      "execution_count": null,
      "outputs": []
    },
    {
      "cell_type": "markdown",
      "source": [
        "# Download Datagrid from Hub"
      ],
      "metadata": {
        "id": "Il77akajRYhl"
      }
    },
    {
      "cell_type": "markdown",
      "source": [
        "We will use `hf_hub_download` to fetch a saved datagrid file [that's been saved on the hub](https://huggingface.co/datasets/Comet/CLIP-eval/tree/main). "
      ],
      "metadata": {
        "id": "G-8y3TsczSVJ"
      }
    },
    {
      "cell_type": "code",
      "source": [
        "from huggingface_hub import hf_hub_download\n",
        "\n",
        "from kangas import DataGrid\n",
        "\n",
        "\n",
        "dg = DataGrid.read_datagrid(\n",
        "    hf_hub_download(\n",
        "        repo_id=\"Comet/CLIP-eval\",\n",
        "        filename=\"cifar10-test.datagrid\",\n",
        "        repo_type=\"dataset\",\n",
        "        use_auth_token=True\n",
        "    )\n",
        ")\n",
        "dg.show()"
      ],
      "metadata": {
        "id": "Bq-jJ7Q4Q3zk"
      },
      "execution_count": null,
      "outputs": []
    },
    {
      "cell_type": "code",
      "source": [],
      "metadata": {
        "id": "lvXY-XRZRDzI"
      },
      "execution_count": null,
      "outputs": []
    }
  ]
}