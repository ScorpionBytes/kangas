{
 "cells": [
  {
   "cell_type": "markdown",
   "id": "1eaec638-3318-4551-8a4c-05b2291c2d22",
   "metadata": {
    "id": "1eaec638-3318-4551-8a4c-05b2291c2d22"
   },
   "source": [
    "# Kangas DataGrid - Integrations\n",
    "\n",
    "Before using Kangas DataGrid, you'll need to install it. We can do that in a notebook\n",
    "with the `%pip install kangas` command:"
   ]
  },
  {
   "cell_type": "code",
   "execution_count": 1,
   "id": "7229cc34-aed4-48d0-8c61-d080b1866b0a",
   "metadata": {
    "colab": {
     "base_uri": "https://localhost:8080/"
    },
    "id": "7229cc34-aed4-48d0-8c61-d080b1866b0a",
    "outputId": "ac5d0fbf-3b9c-4510-f583-9983aa108504"
   },
   "outputs": [
    {
     "name": "stdout",
     "output_type": "stream",
     "text": [
      "\u001b[K     |████████████████████████████████| 11.9 MB 4.6 MB/s \n",
      "\u001b[K     |████████████████████████████████| 34.5 MB 225 kB/s \n",
      "\u001b[?25h"
     ]
    }
   ],
   "source": [
    "%pip install kangas --quiet"
   ]
  },
  {
   "cell_type": "markdown",
   "id": "825e0713-8399-439f-a7e1-3b8d06adc455",
   "metadata": {
    "id": "825e0713-8399-439f-a7e1-3b8d06adc455"
   },
   "source": [
    "Once installed, we can import it. We'll just import the top-level `kangas` module as `kg` and use that throughout this demo."
   ]
  },
  {
   "cell_type": "code",
   "execution_count": 2,
   "id": "edd11c53-6bc2-4d71-a794-056d56e786f6",
   "metadata": {
    "colab": {
     "base_uri": "https://localhost:8080/",
     "height": 36
    },
    "id": "edd11c53-6bc2-4d71-a794-056d56e786f6",
    "outputId": "e60ede51-b902-40bc-fbc8-4a54650562f0"
   },
   "outputs": [
    {
     "data": {
      "application/vnd.google.colaboratory.intrinsic+json": {
       "type": "string"
      },
      "text/plain": [
       "'1.1.31'"
      ]
     },
     "execution_count": 2,
     "metadata": {},
     "output_type": "execute_result"
    }
   ],
   "source": [
    "import kangas as kg\n",
    "kg.__version__"
   ]
  },
  {
   "cell_type": "markdown",
   "id": "8926dc3c-9494-4b26-afb5-38d6b7e9878c",
   "metadata": {
    "id": "8926dc3c-9494-4b26-afb5-38d6b7e9878c"
   },
   "source": [
    "# Pandas DataFrame"
   ]
  },
  {
   "cell_type": "markdown",
   "id": "20dee1cd-5bea-4f7e-995b-5806615dccb3",
   "metadata": {
    "id": "20dee1cd-5bea-4f7e-995b-5806615dccb3"
   },
   "source": [
    "This demonstrates using images with Kangas from a pandas DataFrame.\n",
    "\n",
    "This is based on: https://towardsdatascience.com/rendering-images-inside-a-pandas-dataframe-3631a4883f60\n",
    "\n",
    "First, we build a pandas DataFrame:"
   ]
  },
  {
   "cell_type": "code",
   "execution_count": 3,
   "id": "4b9cb247-0d86-496b-b4a9-2b9dbda9b56f",
   "metadata": {
    "id": "4b9cb247-0d86-496b-b4a9-2b9dbda9b56f"
   },
   "outputs": [],
   "source": [
    "import pandas as pd"
   ]
  },
  {
   "cell_type": "code",
   "execution_count": 4,
   "id": "NnEWfSZ66T1Q",
   "metadata": {
    "id": "NnEWfSZ66T1Q"
   },
   "outputs": [],
   "source": [
    "df = pd.DataFrame([\n",
    "    [2768571, 130655, 1155027, 34713051, 331002277],        \n",
    "    [1448753, 60632, 790040, 3070447, 212558178],\n",
    "    [654405, 9536, 422931, 19852167, 145934619],\n",
    "    [605216, 17848, 359891, 8826585, 1379974505],\n",
    "    [288477, 9860, 178245, 1699369, 32969875]],\n",
    "    columns=['Total Cases', 'Total Deaths', 'Total Recovered', 'Total Tests', 'Population'])"
   ]
  },
  {
   "cell_type": "code",
   "execution_count": 5,
   "id": "JmyJOQnA9UiA",
   "metadata": {
    "colab": {
     "base_uri": "https://localhost:8080/"
    },
    "id": "JmyJOQnA9UiA",
    "outputId": "74052523-506c-4695-df45-17bac96eef4b"
   },
   "outputs": [
    {
     "name": "stdout",
     "output_type": "stream",
     "text": [
      "Reading DataFrame...\n"
     ]
    },
    {
     "name": "stderr",
     "output_type": "stream",
     "text": [
      "5it [00:00, 3719.67it/s]\n",
      "100%|██████████| 5/5 [00:00<00:00, 7077.80it/s]\n"
     ]
    }
   ],
   "source": [
    "dg = kg.read_dataframe(df)"
   ]
  },
  {
   "cell_type": "code",
   "execution_count": 6,
   "id": "FjbH2Oyb6g3o",
   "metadata": {
    "id": "FjbH2Oyb6g3o"
   },
   "outputs": [],
   "source": [
    "flags = [\n",
    "  'https://www.countries-ofthe-world.com/flags-normal/flag-of-United-States-of-America.png',\n",
    "  'https://www.countries-ofthe-world.com/flags-normal/flag-of-Brazil.png',\n",
    "  'https://www.countries-ofthe-world.com/flags-normal/flag-of-Russia.png',\n",
    "  'https://www.countries-ofthe-world.com/flags-normal/flag-of-India.png',\n",
    "  'https://www.countries-ofthe-world.com/flags-normal/flag-of-Peru.png'\n",
    "]"
   ]
  },
  {
   "cell_type": "code",
   "execution_count": 7,
   "id": "yAEWXFD986gg",
   "metadata": {
    "id": "yAEWXFD986gg"
   },
   "outputs": [],
   "source": [
    "from kangas.datatypes.utils import download_filename"
   ]
  },
  {
   "cell_type": "code",
   "execution_count": 8,
   "id": "A-HmlAZd6olD",
   "metadata": {
    "id": "A-HmlAZd6olD"
   },
   "outputs": [],
   "source": [
    "dg.append_column(\"Flag\", [kg.Image(download_filename(url)) for url in flags])"
   ]
  },
  {
   "cell_type": "code",
   "execution_count": 9,
   "id": "udr40YK39fnv",
   "metadata": {
    "colab": {
     "base_uri": "https://localhost:8080/",
     "height": 217
    },
    "id": "udr40YK39fnv",
    "outputId": "20545ee8-6ed8-45e4-d827-1f169d9474b8"
   },
   "outputs": [
    {
     "data": {
      "text/html": [
       "<table><th colspan='1' >          row-id </th> <th colspan='1' >     Total Cases </th> <th colspan='1' >    Total Deaths </th> <th colspan='1' > Total Recovered </th> <th colspan='1' >     Total Tests </th> <th colspan='1' >      Population </th> <th colspan='1' >            Flag </th> <tr>\n",
       "<td colspan='1' >               1 </td> <td colspan='1' >         2768571 </td> <td colspan='1' >          130655 </td> <td colspan='1' >         1155027 </td> <td colspan='1' >        34713051 </td> <td colspan='1' >       331002277 </td> <td colspan='1' > &lt;Image, asse </td> <tr>\n",
       "<td colspan='1' >               2 </td> <td colspan='1' >         1448753 </td> <td colspan='1' >           60632 </td> <td colspan='1' >          790040 </td> <td colspan='1' >         3070447 </td> <td colspan='1' >       212558178 </td> <td colspan='1' > &lt;Image, asse </td> <tr>\n",
       "<td colspan='1' >               3 </td> <td colspan='1' >          654405 </td> <td colspan='1' >            9536 </td> <td colspan='1' >          422931 </td> <td colspan='1' >        19852167 </td> <td colspan='1' >       145934619 </td> <td colspan='1' > &lt;Image, asse </td> <tr>\n",
       "<td colspan='1' >               4 </td> <td colspan='1' >          605216 </td> <td colspan='1' >           17848 </td> <td colspan='1' >          359891 </td> <td colspan='1' >         8826585 </td> <td colspan='1' >      1379974505 </td> <td colspan='1' > &lt;Image, asse </td> <tr>\n",
       "<td colspan='1' >               5 </td> <td colspan='1' >          288477 </td> <td colspan='1' >            9860 </td> <td colspan='1' >          178245 </td> <td colspan='1' >         1699369 </td> <td colspan='1' >        32969875 </td> <td colspan='1' > &lt;Image, asse </td> <tr>\n",
       "<tr>\n",
       "<td colspan='7' style=\"text-align: left;\"> [5 rows x 6 columns] </td> <tr>\n",
       "<tr><td colspan='7' style='text-align: left;'></td></tr><tr><td colspan='7' style='text-align: left;'>*  Use DataGrid.save() to save to disk</td></tr><tr><td colspan='7' style='text-align: left;'>** Use DataGrid.show() to start user interface</td></tr></table>"
      ],
      "text/plain": [
       "<th colspan='1' >          row-id </th> <th colspan='1' >     Total Cases </th> <th colspan='1' >    Total Deaths </th> <th colspan='1' > Total Recovered </th> <th colspan='1' >     Total Tests </th> <th colspan='1' >      Population </th> <th colspan='1' >            Flag </th> <tr>\n",
       "<td colspan='1' >               1 </td> <td colspan='1' >         2768571 </td> <td colspan='1' >          130655 </td> <td colspan='1' >         1155027 </td> <td colspan='1' >        34713051 </td> <td colspan='1' >       331002277 </td> <td colspan='1' > &lt;Image, asse </td> <tr>\n",
       "<td colspan='1' >               2 </td> <td colspan='1' >         1448753 </td> <td colspan='1' >           60632 </td> <td colspan='1' >          790040 </td> <td colspan='1' >         3070447 </td> <td colspan='1' >       212558178 </td> <td colspan='1' > &lt;Image, asse </td> <tr>\n",
       "<td colspan='1' >               3 </td> <td colspan='1' >          654405 </td> <td colspan='1' >            9536 </td> <td colspan='1' >          422931 </td> <td colspan='1' >        19852167 </td> <td colspan='1' >       145934619 </td> <td colspan='1' > &lt;Image, asse </td> <tr>\n",
       "<td colspan='1' >               4 </td> <td colspan='1' >          605216 </td> <td colspan='1' >           17848 </td> <td colspan='1' >          359891 </td> <td colspan='1' >         8826585 </td> <td colspan='1' >      1379974505 </td> <td colspan='1' > &lt;Image, asse </td> <tr>\n",
       "<td colspan='1' >               5 </td> <td colspan='1' >          288477 </td> <td colspan='1' >            9860 </td> <td colspan='1' >          178245 </td> <td colspan='1' >         1699369 </td> <td colspan='1' >        32969875 </td> <td colspan='1' > &lt;Image, asse </td> <tr>\n",
       "<tr>\n",
       "<td colspan='7' style=\"text-align: left;\"> [5 rows x 6 columns] </td> <tr>\n",
       "\n",
       "*  Use DataGrid.save() to save to disk\n",
       "** Use DataGrid.show() to start user interface"
      ]
     },
     "execution_count": 9,
     "metadata": {},
     "output_type": "execute_result"
    }
   ],
   "source": [
    "dg"
   ]
  },
  {
   "cell_type": "code",
   "execution_count": 10,
   "id": "bSNClrNS9h5x",
   "metadata": {
    "colab": {
     "base_uri": "https://localhost:8080/",
     "height": 893
    },
    "id": "bSNClrNS9h5x",
    "outputId": "f7d80675-7688-43aa-9b97-3c5db29c2a96"
   },
   "outputs": [
    {
     "name": "stdout",
     "output_type": "stream",
     "text": [
      "Saving data...\n"
     ]
    },
    {
     "name": "stderr",
     "output_type": "stream",
     "text": [
      "100%|██████████| 5/5 [00:00<00:00, 13374.69it/s]\n"
     ]
    },
    {
     "name": "stdout",
     "output_type": "stream",
     "text": [
      "Saving datagrid to '/tmp/tmpokt9wedz/untitled.datagrid'...\n",
      "Extending data...\n"
     ]
    },
    {
     "name": "stderr",
     "output_type": "stream",
     "text": [
      "100%|██████████| 5/5 [00:00<00:00, 2139.30it/s]\n"
     ]
    },
    {
     "name": "stdout",
     "output_type": "stream",
     "text": [
      "Computing statistics...\n"
     ]
    },
    {
     "name": "stderr",
     "output_type": "stream",
     "text": [
      "100%|██████████| 8/8 [00:00<00:00, 3939.24it/s]\n"
     ]
    },
    {
     "data": {
      "application/javascript": [
       "\n",
       "(async ()=>{\n",
       "    fm = document.createElement('iframe');\n",
       "    fm.src = (await google.colab.kernel.proxyPort(4000)) + '?datagrid=%2Ftmp%2Ftmpokt9wedz%2Funtitled.datagrid';\n",
       "    fm.width = '100%';\n",
       "    fm.height = '750px';\n",
       "    fm.frameBorder = 0;\n",
       "    document.body.append(fm);\n",
       "    window.addEventListener(\"message\", async (e) => {\n",
       "        const { type, targetId } = e.data;\n",
       "        if (type === 'metadata') {\n",
       "            const result = await google.colab.kernel.invokeFunction(\n",
       "                '_py_fetch_metadata',\n",
       "                [e.data.dgid, e.data.assetId],\n",
       "                {});\n",
       "            const message = JSON.parse(result.data?.['text/plain'].slice(1, -1));\n",
       "            message['messageType'] = 'metadata';\n",
       "            message['targetId'] = targetId;\n",
       "            fm.contentWindow.postMessage(message, \"*\");\n",
       "        } else if (type === 'asset') {\n",
       "            const result = await google.colab.kernel.invokeFunction(\n",
       "                '_py_fetch_asset',\n",
       "                [e.data.dgid, e.data.assetId],\n",
       "                {});\n",
       "            const srcString = result.data?.['text/plain'].slice(2, -1);\n",
       "            const message = {\n",
       "                src: srcString,\n",
       "                messageType: 'asset',\n",
       "                targetId\n",
       "            };\n",
       "            fm.contentWindow.postMessage(message, \"*\");\n",
       "        } else if (type === 'histogram') {\n",
       "            const { dgid, groupBy, where, columnName, columnValue, where_description, computed_columns, whereExpr } = e.data\n",
       "            const result = await google.colab.kernel.invokeFunction(\n",
       "                '_py_fetch_histogram',\n",
       "                [dgid, groupBy, where, columnName, columnValue, where_description, computed_columns, whereExpr],\n",
       "                {}\n",
       "            )\n",
       "            const message = {\n",
       "                raw: result.data?.['text/plain'],\n",
       "                messageType: 'histogram',\n",
       "                targetId\n",
       "            };\n",
       "            fm.contentWindow.postMessage(message, \"*\");\n",
       "        } else if (type === 'category') {\n",
       "            const { dgid, groupBy, where, columnName, columnValue, where_description, computed_columns, whereExpr } = e.data\n",
       "            const result = await google.colab.kernel.invokeFunction(\n",
       "                '_py_fetch_category',\n",
       "                [dgid, groupBy, where, columnName, columnValue, where_description, computed_columns, whereExpr],\n",
       "                {}\n",
       "            )\n",
       "            const message = {\n",
       "                raw: result.data?.['text/plain'],\n",
       "                messageType: 'category',\n",
       "                targetId\n",
       "            };\n",
       "            fm.contentWindow.postMessage(message, \"*\");\n",
       "        }\n",
       "\n",
       "    }, false);\n",
       "})();\n"
      ],
      "text/plain": [
       "<IPython.core.display.Javascript object>"
      ]
     },
     "metadata": {},
     "output_type": "display_data"
    }
   ],
   "source": [
    "dg.show()"
   ]
  },
  {
   "cell_type": "markdown",
   "id": "7263a22e-950f-4cd0-a151-a114ce8cb7b8",
   "metadata": {
    "id": "7263a22e-950f-4cd0-a151-a114ce8cb7b8"
   },
   "source": [
    "# CSV Files"
   ]
  },
  {
   "cell_type": "markdown",
   "id": "a7f4163b-6e2f-412d-8f9c-4c18722ce6ee",
   "metadata": {
    "id": "a7f4163b-6e2f-412d-8f9c-4c18722ce6ee"
   },
   "source": [
    "From https://www.kaggle.com/code/stassl/displaying-inline-images-in-pandas-dataframe/data download:\n",
    "\n",
    "* `labels.csv` \n",
    "* `test.zip`\n",
    "\n",
    "And save in this folder (or upload if you are on Google Colab)."
   ]
  },
  {
   "cell_type": "code",
   "execution_count": 25,
   "id": "hAcz-37s5NxV",
   "metadata": {
    "id": "hAcz-37s5NxV"
   },
   "outputs": [],
   "source": [
    "! mkdir -p train\n",
    "! unzip -o -q train.zip -d train"
   ]
  },
  {
   "cell_type": "code",
   "execution_count": 26,
   "id": "435ff9ce-48ae-47b9-981b-6f08135fdbf0",
   "metadata": {
    "colab": {
     "base_uri": "https://localhost:8080/"
    },
    "id": "435ff9ce-48ae-47b9-981b-6f08135fdbf0",
    "outputId": "9a0683ce-bcb7-45bc-d519-bcac79c627e1"
   },
   "outputs": [
    {
     "name": "stdout",
     "output_type": "stream",
     "text": [
      "Loading CSV file 'labels.csv'...\n"
     ]
    },
    {
     "name": "stderr",
     "output_type": "stream",
     "text": [
      "10223it [00:00, 65439.28it/s]\n",
      "100%|██████████| 10222/10222 [00:00<00:00, 18376.24it/s]\n"
     ]
    }
   ],
   "source": [
    "dg = kg.read_csv(\"labels.csv\")"
   ]
  },
  {
   "cell_type": "code",
   "execution_count": 27,
   "id": "8ffe9053-3d36-46d0-a38a-ddf5ba85b198",
   "metadata": {
    "colab": {
     "base_uri": "https://localhost:8080/",
     "height": 346
    },
    "id": "8ffe9053-3d36-46d0-a38a-ddf5ba85b198",
    "outputId": "4c698b5d-8703-49a6-bffc-f09a54766340"
   },
   "outputs": [
    {
     "data": {
      "text/html": [
       "<table><th colspan='1' >          row-id </th> <th colspan='1' >              id </th> <th colspan='1' >           breed </th> <tr>\n",
       "<td colspan='1' >               1 </td> <td colspan='1' > 000bec180eb18c7 </td> <td colspan='1' >     boston_bull </td> <tr>\n",
       "<td colspan='1' >               2 </td> <td colspan='1' > 001513dfcb2ffaf </td> <td colspan='1' >           dingo </td> <tr>\n",
       "<td colspan='1' >               3 </td> <td colspan='1' > 001cdf01b096e06 </td> <td colspan='1' >        pekinese </td> <tr>\n",
       "<td colspan='1' >               4 </td> <td colspan='1' > 00214f311d5d224 </td> <td colspan='1' >        bluetick </td> <tr>\n",
       "<td colspan='1' >               5 </td> <td colspan='1' > 0021f9ceb3235ef </td> <td colspan='1' > golden_retrieve </td> <tr>\n",
       "<tr><td colspan='3' style='text-align: left;'>...</td></tr><td colspan='1' >           10218 </td> <td colspan='1' > ffd25009d635cfd </td> <td colspan='1' >          borzoi </td> <tr>\n",
       "<td colspan='1' >           10219 </td> <td colspan='1' > ffd3f636f7f379c </td> <td colspan='1' >  dandie_dinmont </td> <tr>\n",
       "<td colspan='1' >           10220 </td> <td colspan='1' > ffe2ca6c940cddf </td> <td colspan='1' >        airedale </td> <tr>\n",
       "<td colspan='1' >           10221 </td> <td colspan='1' > ffe5f6d8e2bff35 </td> <td colspan='1' > miniature_pinsc </td> <tr>\n",
       "<td colspan='1' >           10222 </td> <td colspan='1' > fff43b07992508b </td> <td colspan='1' > chesapeake_bay_ </td> <tr>\n",
       "<tr>\n",
       "<td colspan='3' style=\"text-align: left;\"> [10222 rows x 2 columns] </td> <tr>\n",
       "<tr><td colspan='3' style='text-align: left;'></td></tr><tr><td colspan='3' style='text-align: left;'>*  Use DataGrid.save() to save to disk</td></tr><tr><td colspan='3' style='text-align: left;'>** Use DataGrid.show() to start user interface</td></tr></table>"
      ],
      "text/plain": [
       "<th colspan='1' >          row-id </th> <th colspan='1' >              id </th> <th colspan='1' >           breed </th> <tr>\n",
       "<td colspan='1' >               1 </td> <td colspan='1' > 000bec180eb18c7 </td> <td colspan='1' >     boston_bull </td> <tr>\n",
       "<td colspan='1' >               2 </td> <td colspan='1' > 001513dfcb2ffaf </td> <td colspan='1' >           dingo </td> <tr>\n",
       "<td colspan='1' >               3 </td> <td colspan='1' > 001cdf01b096e06 </td> <td colspan='1' >        pekinese </td> <tr>\n",
       "<td colspan='1' >               4 </td> <td colspan='1' > 00214f311d5d224 </td> <td colspan='1' >        bluetick </td> <tr>\n",
       "<td colspan='1' >               5 </td> <td colspan='1' > 0021f9ceb3235ef </td> <td colspan='1' > golden_retrieve </td> <tr>\n",
       "...\n",
       "<td colspan='1' >           10218 </td> <td colspan='1' > ffd25009d635cfd </td> <td colspan='1' >          borzoi </td> <tr>\n",
       "<td colspan='1' >           10219 </td> <td colspan='1' > ffd3f636f7f379c </td> <td colspan='1' >  dandie_dinmont </td> <tr>\n",
       "<td colspan='1' >           10220 </td> <td colspan='1' > ffe2ca6c940cddf </td> <td colspan='1' >        airedale </td> <tr>\n",
       "<td colspan='1' >           10221 </td> <td colspan='1' > ffe5f6d8e2bff35 </td> <td colspan='1' > miniature_pinsc </td> <tr>\n",
       "<td colspan='1' >           10222 </td> <td colspan='1' > fff43b07992508b </td> <td colspan='1' > chesapeake_bay_ </td> <tr>\n",
       "<tr>\n",
       "<td colspan='3' style=\"text-align: left;\"> [10222 rows x 2 columns] </td> <tr>\n",
       "\n",
       "*  Use DataGrid.save() to save to disk\n",
       "** Use DataGrid.show() to start user interface"
      ]
     },
     "execution_count": 27,
     "metadata": {},
     "output_type": "execute_result"
    }
   ],
   "source": [
    "dg"
   ]
  },
  {
   "cell_type": "code",
   "execution_count": 28,
   "id": "9a7186e3-163a-4e75-be82-b5cd27d554b8",
   "metadata": {
    "id": "9a7186e3-163a-4e75-be82-b5cd27d554b8"
   },
   "outputs": [],
   "source": [
    "dogs = kg.DataGrid(\n",
    "    name=\"Dog Breeds\",\n",
    "    columns=[\"Breed\", \"Image\"],\n",
    ")"
   ]
  },
  {
   "cell_type": "code",
   "execution_count": 29,
   "id": "49e30f6f-0c70-459a-99b5-285187aa2858",
   "metadata": {
    "id": "49e30f6f-0c70-459a-99b5-285187aa2858"
   },
   "outputs": [],
   "source": [
    "for row in dg.to_dicts():\n",
    "    dogs.append([row[\"breed\"], kg.Image(\"train/\" + row[\"id\"] + \".jpg\")])"
   ]
  },
  {
   "cell_type": "code",
   "execution_count": 30,
   "id": "717ec952-9d3c-4985-8b0e-b672d4ae800f",
   "metadata": {
    "colab": {
     "base_uri": "https://localhost:8080/",
     "height": 893
    },
    "id": "717ec952-9d3c-4985-8b0e-b672d4ae800f",
    "outputId": "3764ab15-7a02-495e-e139-dae6ea0fe037"
   },
   "outputs": [
    {
     "name": "stdout",
     "output_type": "stream",
     "text": [
      "Saving data...\n"
     ]
    },
    {
     "name": "stderr",
     "output_type": "stream",
     "text": [
      "100%|██████████| 10222/10222 [00:00<00:00, 101740.54it/s]"
     ]
    },
    {
     "name": "stdout",
     "output_type": "stream",
     "text": [
      "Saving datagrid to 'dog-breeds.datagrid'...\n"
     ]
    },
    {
     "name": "stderr",
     "output_type": "stream",
     "text": [
      "\n"
     ]
    },
    {
     "name": "stdout",
     "output_type": "stream",
     "text": [
      "Extending data...\n"
     ]
    },
    {
     "name": "stderr",
     "output_type": "stream",
     "text": [
      "100%|██████████| 10222/10222 [00:02<00:00, 3462.81it/s]\n"
     ]
    },
    {
     "name": "stdout",
     "output_type": "stream",
     "text": [
      "Computing statistics...\n"
     ]
    },
    {
     "name": "stderr",
     "output_type": "stream",
     "text": [
      "100%|██████████| 4/4 [00:30<00:00,  7.61s/it]\n"
     ]
    },
    {
     "data": {
      "application/javascript": [
       "\n",
       "(async ()=>{\n",
       "    fm = document.createElement('iframe');\n",
       "    fm.src = (await google.colab.kernel.proxyPort(4000)) + '?datagrid=dog-breeds.datagrid';\n",
       "    fm.width = '100%';\n",
       "    fm.height = '750px';\n",
       "    fm.frameBorder = 0;\n",
       "    document.body.append(fm);\n",
       "    window.addEventListener(\"message\", async (e) => {\n",
       "        const { type, targetId } = e.data;\n",
       "        if (type === 'metadata') {\n",
       "            const result = await google.colab.kernel.invokeFunction(\n",
       "                '_py_fetch_metadata',\n",
       "                [e.data.dgid, e.data.assetId],\n",
       "                {});\n",
       "            const message = JSON.parse(result.data?.['text/plain'].slice(1, -1));\n",
       "            message['messageType'] = 'metadata';\n",
       "            message['targetId'] = targetId;\n",
       "            fm.contentWindow.postMessage(message, \"*\");\n",
       "        } else if (type === 'asset') {\n",
       "            const result = await google.colab.kernel.invokeFunction(\n",
       "                '_py_fetch_asset',\n",
       "                [e.data.dgid, e.data.assetId],\n",
       "                {});\n",
       "            const srcString = result.data?.['text/plain'].slice(2, -1);\n",
       "            const message = {\n",
       "                src: srcString,\n",
       "                messageType: 'asset',\n",
       "                targetId\n",
       "            };\n",
       "            fm.contentWindow.postMessage(message, \"*\");\n",
       "        } else if (type === 'histogram') {\n",
       "            const { dgid, groupBy, where, columnName, columnValue, where_description, computed_columns, whereExpr } = e.data\n",
       "            const result = await google.colab.kernel.invokeFunction(\n",
       "                '_py_fetch_histogram',\n",
       "                [dgid, groupBy, where, columnName, columnValue, where_description, computed_columns, whereExpr],\n",
       "                {}\n",
       "            )\n",
       "            const message = {\n",
       "                raw: result.data?.['text/plain'],\n",
       "                messageType: 'histogram',\n",
       "                targetId\n",
       "            };\n",
       "            fm.contentWindow.postMessage(message, \"*\");\n",
       "        } else if (type === 'category') {\n",
       "            const { dgid, groupBy, where, columnName, columnValue, where_description, computed_columns, whereExpr } = e.data\n",
       "            const result = await google.colab.kernel.invokeFunction(\n",
       "                '_py_fetch_category',\n",
       "                [dgid, groupBy, where, columnName, columnValue, where_description, computed_columns, whereExpr],\n",
       "                {}\n",
       "            )\n",
       "            const message = {\n",
       "                raw: result.data?.['text/plain'],\n",
       "                messageType: 'category',\n",
       "                targetId\n",
       "            };\n",
       "            fm.contentWindow.postMessage(message, \"*\");\n",
       "        }\n",
       "\n",
       "    }, false);\n",
       "})();\n"
      ],
      "text/plain": [
       "<IPython.core.display.Javascript object>"
      ]
     },
     "metadata": {},
     "output_type": "display_data"
    }
   ],
   "source": [
    "dogs.show()"
   ]
  },
  {
   "cell_type": "markdown",
   "id": "ad9e04e6-71cb-427f-91e3-a7985aa36afd",
   "metadata": {
    "id": "ad9e04e6-71cb-427f-91e3-a7985aa36afd"
   },
   "source": [
    "# HuggingFace\n"
   ]
  },
  {
   "cell_type": "code",
   "execution_count": 12,
   "id": "V2P_8UbT4t-k",
   "metadata": {
    "colab": {
     "base_uri": "https://localhost:8080/"
    },
    "id": "V2P_8UbT4t-k",
    "outputId": "f9e75403-823e-466f-a703-8eb002db6616"
   },
   "outputs": [
    {
     "name": "stdout",
     "output_type": "stream",
     "text": [
      "\u001b[K     |████████████████████████████████| 441 kB 5.1 MB/s \n",
      "\u001b[K     |████████████████████████████████| 163 kB 67.9 MB/s \n",
      "\u001b[K     |████████████████████████████████| 95 kB 4.4 MB/s \n",
      "\u001b[K     |████████████████████████████████| 115 kB 73.7 MB/s \n",
      "\u001b[K     |████████████████████████████████| 212 kB 51.7 MB/s \n",
      "\u001b[K     |████████████████████████████████| 127 kB 46.8 MB/s \n",
      "\u001b[K     |████████████████████████████████| 115 kB 36.0 MB/s \n",
      "\u001b[?25h"
     ]
    }
   ],
   "source": [
    "%pip install datasets --quiet"
   ]
  },
  {
   "cell_type": "code",
   "execution_count": 13,
   "id": "c39d9673-f8f2-447f-9fc0-9833aefb6468",
   "metadata": {
    "id": "c39d9673-f8f2-447f-9fc0-9833aefb6468"
   },
   "outputs": [],
   "source": [
    "from datasets import load_dataset"
   ]
  },
  {
   "cell_type": "code",
   "execution_count": 31,
   "id": "05a020cf-da0f-4f18-9903-2606f0b78fd4",
   "metadata": {
    "colab": {
     "base_uri": "https://localhost:8080/"
    },
    "id": "05a020cf-da0f-4f18-9903-2606f0b78fd4",
    "outputId": "6fae3891-45e9-48ef-d657-d0a0adeed89e"
   },
   "outputs": [
    {
     "name": "stderr",
     "output_type": "stream",
     "text": [
      "WARNING:datasets.builder:Found cached dataset beans (/root/.cache/huggingface/datasets/beans/default/0.0.0/90c755fb6db1c0ccdad02e897a37969dbf070bed3755d4391e269ff70642d791)\n"
     ]
    }
   ],
   "source": [
    "dataset = load_dataset(\"beans\", split=\"train\")"
   ]
  },
  {
   "cell_type": "code",
   "execution_count": 32,
   "id": "984332a3-121f-43de-8d2e-8517a650aad7",
   "metadata": {
    "colab": {
     "base_uri": "https://localhost:8080/"
    },
    "id": "984332a3-121f-43de-8d2e-8517a650aad7",
    "outputId": "2eee3d1f-f9ad-4455-f177-ebcebe45f675"
   },
   "outputs": [
    {
     "name": "stderr",
     "output_type": "stream",
     "text": [
      "100%|██████████| 1034/1034 [01:44<00:00,  9.90it/s]\n"
     ]
    }
   ],
   "source": [
    "dg = kg.DataGrid(dataset, name=\"beans\")"
   ]
  },
  {
   "cell_type": "code",
   "execution_count": null,
   "id": "0742a2b8-60e0-497a-a349-4d5094b4bc88",
   "metadata": {
    "id": "0742a2b8-60e0-497a-a349-4d5094b4bc88"
   },
   "outputs": [],
   "source": [
    "dg.show()"
   ]
  },
  {
   "cell_type": "markdown",
   "id": "da7389bf-a6dd-49d0-b4ea-760ed1988867",
   "metadata": {
    "id": "da7389bf-a6dd-49d0-b4ea-760ed1988867"
   },
   "source": [
    "# URLs and Archived Files\n",
    "\n",
    "Kangas can read URLs, and archived formats (including \"zip\", and \"tgz\" file formats)."
   ]
  },
  {
   "cell_type": "code",
   "execution_count": 33,
   "id": "3fffecd6-15e3-4cd1-9bb1-5004dff7c934",
   "metadata": {
    "id": "3fffecd6-15e3-4cd1-9bb1-5004dff7c934"
   },
   "outputs": [],
   "source": [
    "dg = kg.read_datagrid(\"https://github.com/dsblank/examples/raw/main/mnist-60000-after-5-epochs.datagrid.zip\")"
   ]
  },
  {
   "cell_type": "code",
   "execution_count": 34,
   "id": "qSG2-8TRHqEU",
   "metadata": {
    "colab": {
     "base_uri": "https://localhost:8080/",
     "height": 772
    },
    "id": "qSG2-8TRHqEU",
    "outputId": "577ca957-fa08-4a41-99e0-2c05d68ea18f"
   },
   "outputs": [
    {
     "data": {
      "application/javascript": [
       "\n",
       "(async ()=>{\n",
       "    fm = document.createElement('iframe');\n",
       "    fm.src = (await google.colab.kernel.proxyPort(4000)) + '?datagrid=mnist-60000-after-5-epochs.datagrid';\n",
       "    fm.width = '100%';\n",
       "    fm.height = '750px';\n",
       "    fm.frameBorder = 0;\n",
       "    document.body.append(fm);\n",
       "    window.addEventListener(\"message\", async (e) => {\n",
       "        const { type, targetId } = e.data;\n",
       "        if (type === 'metadata') {\n",
       "            const result = await google.colab.kernel.invokeFunction(\n",
       "                '_py_fetch_metadata',\n",
       "                [e.data.dgid, e.data.assetId],\n",
       "                {});\n",
       "            const message = JSON.parse(result.data?.['text/plain'].slice(1, -1));\n",
       "            message['messageType'] = 'metadata';\n",
       "            message['targetId'] = targetId;\n",
       "            fm.contentWindow.postMessage(message, \"*\");\n",
       "        } else if (type === 'asset') {\n",
       "            const result = await google.colab.kernel.invokeFunction(\n",
       "                '_py_fetch_asset',\n",
       "                [e.data.dgid, e.data.assetId],\n",
       "                {});\n",
       "            const srcString = result.data?.['text/plain'].slice(2, -1);\n",
       "            const message = {\n",
       "                src: srcString,\n",
       "                messageType: 'asset',\n",
       "                targetId\n",
       "            };\n",
       "            fm.contentWindow.postMessage(message, \"*\");\n",
       "        } else if (type === 'histogram') {\n",
       "            const { dgid, groupBy, where, columnName, columnValue, where_description, computed_columns, whereExpr } = e.data\n",
       "            const result = await google.colab.kernel.invokeFunction(\n",
       "                '_py_fetch_histogram',\n",
       "                [dgid, groupBy, where, columnName, columnValue, where_description, computed_columns, whereExpr],\n",
       "                {}\n",
       "            )\n",
       "            const message = {\n",
       "                raw: result.data?.['text/plain'],\n",
       "                messageType: 'histogram',\n",
       "                targetId\n",
       "            };\n",
       "            fm.contentWindow.postMessage(message, \"*\");\n",
       "        } else if (type === 'category') {\n",
       "            const { dgid, groupBy, where, columnName, columnValue, where_description, computed_columns, whereExpr } = e.data\n",
       "            const result = await google.colab.kernel.invokeFunction(\n",
       "                '_py_fetch_category',\n",
       "                [dgid, groupBy, where, columnName, columnValue, where_description, computed_columns, whereExpr],\n",
       "                {}\n",
       "            )\n",
       "            const message = {\n",
       "                raw: result.data?.['text/plain'],\n",
       "                messageType: 'category',\n",
       "                targetId\n",
       "            };\n",
       "            fm.contentWindow.postMessage(message, \"*\");\n",
       "        }\n",
       "\n",
       "    }, false);\n",
       "})();\n"
      ],
      "text/plain": [
       "<IPython.core.display.Javascript object>"
      ]
     },
     "metadata": {},
     "output_type": "display_data"
    }
   ],
   "source": [
    "dg.show()"
   ]
  },
  {
   "cell_type": "code",
   "execution_count": null,
   "id": "7FbB8Y1vHrtD",
   "metadata": {
    "id": "7FbB8Y1vHrtD"
   },
   "outputs": [],
   "source": []
  }
 ],
 "metadata": {
  "colab": {
   "collapsed_sections": [],
   "provenance": []
  },
  "kernelspec": {
   "display_name": "Python 3 (ipykernel)",
   "language": "python",
   "name": "python3"
  },
  "language_info": {
   "codemirror_mode": {
    "name": "ipython",
    "version": 3
   },
   "file_extension": ".py",
   "mimetype": "text/x-python",
   "name": "python",
   "nbconvert_exporter": "python",
   "pygments_lexer": "ipython3",
   "version": "3.8.5"
  },
  "widgets": {
   "application/vnd.jupyter.widget-state+json": {
    "state": {},
    "version_major": 2,
    "version_minor": 0
   }
  }
 },
 "nbformat": 4,
 "nbformat_minor": 5
}
