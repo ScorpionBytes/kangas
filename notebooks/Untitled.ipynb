{
 "cells": [
  {
   "cell_type": "code",
   "execution_count": 1,
   "id": "213f7088",
   "metadata": {},
   "outputs": [],
   "source": [
    "import kangas as kg"
   ]
  },
  {
   "cell_type": "code",
   "execution_count": 6,
   "id": "a2d5f134",
   "metadata": {},
   "outputs": [],
   "source": [
    "dg = kg.read_datagrid('./100000-rows-100-cols.datagrid')"
   ]
  },
  {
   "cell_type": "code",
   "execution_count": 7,
   "id": "a0671f9d",
   "metadata": {},
   "outputs": [
    {
     "name": "stderr",
     "output_type": "stream",
     "text": [
      "0it [00:00, ?it/s]"
     ]
    },
    {
     "name": "stdout",
     "output_type": "stream",
     "text": [
      "Updated 0 assets\n"
     ]
    },
    {
     "name": "stderr",
     "output_type": "stream",
     "text": [
      "\n"
     ]
    }
   ],
   "source": [
    "dg.upgrade()"
   ]
  },
  {
   "cell_type": "code",
   "execution_count": null,
   "id": "2bd5dbdb",
   "metadata": {},
   "outputs": [],
   "source": []
  }
 ],
 "metadata": {
  "kernelspec": {
   "display_name": "Python 3 (ipykernel)",
   "language": "python",
   "name": "python3"
  },
  "language_info": {
   "codemirror_mode": {
    "name": "ipython",
    "version": 3
   },
   "file_extension": ".py",
   "mimetype": "text/x-python",
   "name": "python",
   "nbconvert_exporter": "python",
   "pygments_lexer": "ipython3",
   "version": "3.10.6"
  }
 },
 "nbformat": 4,
 "nbformat_minor": 5
}
